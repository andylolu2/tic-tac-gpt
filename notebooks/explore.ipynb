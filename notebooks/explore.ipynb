{
 "cells": [
  {
   "cell_type": "code",
   "execution_count": null,
   "metadata": {},
   "outputs": [],
   "source": [
    "%load_ext autoreload\n",
    "%autoreload 2"
   ]
  },
  {
   "cell_type": "code",
   "execution_count": null,
   "metadata": {},
   "outputs": [],
   "source": [
    "import random\n",
    "import pickle\n",
    "from pathlib import Path\n",
    "\n",
    "import torch\n",
    "import matplotlib.pyplot as plt\n",
    "import numpy as np\n",
    "import pandas as pd\n",
    "import seaborn as sns\n",
    "from lightning import fabric\n",
    "from transformer_lens import (\n",
    "    HookedTransformer,\n",
    "    HookedTransformerConfig,\n",
    "    FactoredMatrix,\n",
    "    ActivationCache,\n",
    ")\n",
    "from sklearn.linear_model import LogisticRegression, LinearRegression\n",
    "from sklearn.multioutput import MultiOutputClassifier, MultiOutputRegressor\n",
    "from sklearn.decomposition import PCA\n",
    "from sklearn.manifold import TSNE\n",
    "from sklearn.metrics import log_loss\n",
    "\n",
    "from tic_tac_gpt.data import TicTacToeDataset, TicTacToeState, tensor_to_state"
   ]
  },
  {
   "cell_type": "code",
   "execution_count": null,
   "metadata": {},
   "outputs": [],
   "source": [
    "torch.set_grad_enabled(False)\n",
    "torch.set_default_device(\"cuda\" if torch.cuda.is_available() else \"cpu\")"
   ]
  },
  {
   "cell_type": "code",
   "execution_count": null,
   "metadata": {},
   "outputs": [],
   "source": [
    "checkpoint_dir = Path(\"out/model/exp6\")\n",
    "\n",
    "with open(checkpoint_dir / \"config.pkl\", \"rb\") as f:\n",
    "    config: HookedTransformerConfig = pickle.load(f)\n",
    "model = HookedTransformer(config)\n",
    "F = fabric.Fabric(precision=\"16-mixed\")\n",
    "state_dict = F.load(checkpoint_dir / \"model.pt\")\n",
    "model.load_state_dict(state_dict)\n",
    "model = model.eval()"
   ]
  },
  {
   "cell_type": "code",
   "execution_count": null,
   "metadata": {},
   "outputs": [],
   "source": [
    "ds_train = TicTacToeDataset(Path(\"out/dataset/50_50/train.jsonl\"))\n",
    "ds_test = TicTacToeDataset(Path(\"out/dataset/50_50/test.jsonl\"))"
   ]
  },
  {
   "cell_type": "code",
   "execution_count": null,
   "metadata": {},
   "outputs": [],
   "source": [
    "(x,) = random.choice(ds_train)"
   ]
  },
  {
   "cell_type": "code",
   "execution_count": null,
   "metadata": {},
   "outputs": [],
   "source": [
    "def visualise_logit(logit):\n",
    "    probs = logit.softmax(0)\n",
    "    board = [[0] * 3 for _ in range(3)]\n",
    "    special = {}\n",
    "    for i, p in enumerate(probs.tolist()):\n",
    "        move = TicTacToeDataset.decode_one(i)\n",
    "        if isinstance(move, int):\n",
    "            board[move // 3][move % 3] = p\n",
    "        else:\n",
    "            special[move] = p\n",
    "\n",
    "    fig, axs = plt.subplots(\n",
    "        ncols=2, figsize=(10, 4), gridspec_kw={\"width_ratios\": [1.5, 1]}\n",
    "    )\n",
    "    m = axs[0].imshow(board, aspect=\"equal\", vmin=0)\n",
    "    axs[0].set(xticks=[], yticks=[], title=\"Logits\")\n",
    "    fig.colorbar(m, ax=axs[0])\n",
    "    sns.barplot(x=list(special.keys()), y=list(special.values()), ax=axs[1])\n",
    "    axs[1].set(title=\"Special moves\", ylim=(0, 1))\n",
    "\n",
    "    return fig\n",
    "\n",
    "\n",
    "def visualise_board(state):\n",
    "    fig, ax = plt.subplots()\n",
    "    ax.imshow(state.board, cmap=\"gray\", aspect=\"equal\", vmin=0, vmax=2)\n",
    "    ax.set(xticks=[], yticks=[], title=\"Board\")\n",
    "    return fig\n",
    "\n",
    "\n",
    "visualise_board(tensor_to_state(x[:4]))\n",
    "visualise_logit(model(x)[0, 3])\n",
    "None"
   ]
  },
  {
   "cell_type": "code",
   "execution_count": null,
   "metadata": {},
   "outputs": [],
   "source": [
    "focus_games = ds_train[torch.randperm(len(ds_train))[:1000]][0]\n",
    "focus_games_test = ds_test[torch.randperm(len(ds_test))[:2048]][0]\n",
    "\n",
    "focus_games.shape"
   ]
  },
  {
   "cell_type": "code",
   "execution_count": null,
   "metadata": {},
   "outputs": [],
   "source": [
    "def extract_states(game: torch.Tensor):\n",
    "    for i in range(1, game.shape[0] + 1):\n",
    "        state = tensor_to_state(game[:i])\n",
    "        yield state\n",
    "        if state.result != \"in_progress\":\n",
    "            break\n",
    "\n",
    "\n",
    "def board_to_tensor(board):\n",
    "    return torch.tensor(board).flatten(-2, -1)\n",
    "\n",
    "\n",
    "board_states = extract_states(focus_games[7])\n",
    "for s in board_states:\n",
    "    print(s)\n",
    "    print(board_to_tensor(s.board))"
   ]
  },
  {
   "cell_type": "code",
   "execution_count": null,
   "metadata": {},
   "outputs": [],
   "source": [
    "probe_layer = 1\n",
    "\n",
    "\n",
    "def invert(x):\n",
    "    y = x.clone()\n",
    "    y[x == 1] = 2\n",
    "    y[x == 2] = 1\n",
    "    return y\n",
    "\n",
    "\n",
    "def remap(x):\n",
    "    y = x.clone()\n",
    "    y[x == 0] = -1\n",
    "    y[x == 1] = 2\n",
    "    y[x == 2] = 1\n",
    "    return y\n",
    "\n",
    "\n",
    "def extract_XY(games):\n",
    "    _, cache = model.run_with_cache(games[:, :-1])\n",
    "    activations = cache[\"resid_post\", probe_layer]\n",
    "    X, Y = [], []\n",
    "    for game, game_activation in zip(games, activations):\n",
    "        for i, (state, activation) in enumerate(\n",
    "            zip(extract_states(game), game_activation)\n",
    "        ):\n",
    "            X.append(activation)\n",
    "            target = board_to_tensor(state.board)\n",
    "            if i % 2 == 0:\n",
    "                target = invert(target)\n",
    "            target = remap(target)\n",
    "            Y.append(target)\n",
    "            # Y.append(torch.nn.functional.one_hot(target, 3))\n",
    "    X, Y = torch.stack(X), torch.stack(Y)\n",
    "    return X, Y\n",
    "\n",
    "\n",
    "X, Y = extract_XY(focus_games)\n",
    "X_test, Y_test = extract_XY(focus_games_test)\n",
    "X.shape, Y.shape, X_test.shape, Y_test.shape"
   ]
  },
  {
   "cell_type": "code",
   "execution_count": null,
   "metadata": {},
   "outputs": [],
   "source": [
    "X_np = X.cpu().numpy()\n",
    "Y_np = Y.cpu().numpy()\n",
    "# Y_np = Y.flatten(-2, -1).cpu().numpy()\n",
    "X_test_np = X_test.cpu().numpy()\n",
    "Y_test_np = Y_test.cpu().numpy()\n",
    "# Y_test_np = Y_test.flatten(-2, -1).cpu().numpy()\n",
    "\n",
    "regressor = MultiOutputRegressor(LinearRegression())\n",
    "regressor.fit(X_np, Y_np)\n",
    "print(regressor.score(X_np, Y_np), regressor.score(X_test_np, Y_test_np))"
   ]
  },
  {
   "cell_type": "code",
   "execution_count": null,
   "metadata": {},
   "outputs": [],
   "source": [
    "W = np.array([r.coef_ for r in regressor.estimators_])"
   ]
  },
  {
   "cell_type": "code",
   "execution_count": null,
   "metadata": {},
   "outputs": [],
   "source": [
    "X_np = X.cpu().numpy()\n",
    "Y_np = Y.cpu().numpy()\n",
    "X_test_np = X_test.cpu().numpy()\n",
    "Y_test_np = Y_test.cpu().numpy()\n",
    "\n",
    "classifier = MultiOutputClassifier(LogisticRegression(max_iter=1000))\n",
    "classifier.fit(X_np, Y_np)\n",
    "\n",
    "Y_pred = np.array(classifier.predict_proba(X_np)).transpose(1, 0, 2)\n",
    "Y_test_pred = np.array(classifier.predict_proba(X_test_np)).transpose(1, 0, 2)\n",
    "print(classifier.score(X_np, Y_np), classifier.score(X_test_np, Y_test_np))\n",
    "print(\n",
    "    log_loss(Y_np.reshape(-1), Y_pred.reshape(-1, Y_pred.shape[-1])),\n",
    "    log_loss(Y_test_np.reshape(-1), Y_test_pred.reshape(-1, Y_test_pred.shape[-1])),\n",
    ")"
   ]
  },
  {
   "cell_type": "code",
   "execution_count": null,
   "metadata": {},
   "outputs": [],
   "source": [
    "_, cache = model.run_with_cache(focus_games_test)\n",
    "print(cache.keys())"
   ]
  },
  {
   "cell_type": "code",
   "execution_count": null,
   "metadata": {},
   "outputs": [],
   "source": [
    "def plot_attn(x, pattern):\n",
    "    \"\"\"Input shape (nh s s)\"\"\"\n",
    "    fig, axs = plt.subplots(ncols=pattern.shape[0], figsize=(pattern.shape[0] * 4, 4))\n",
    "    for i, ax in enumerate(axs):\n",
    "        p = pattern[i]\n",
    "        p /= np.max(p, axis=-1, keepdims=True)\n",
    "        ax.imshow(p, cmap=\"viridis\", aspect=\"equal\")\n",
    "        ax.set(\n",
    "            title=f\"Head {i}\",\n",
    "            xticks=range(len(x)),\n",
    "            xticklabels=x,\n",
    "            yticks=range(len(x)),\n",
    "            yticklabels=x,\n",
    "        )\n",
    "    # return fig\n",
    "\n",
    "\n",
    "idx = 3\n",
    "print(tensor_to_state(focus_games[idx]))\n",
    "plot_attn(\n",
    "    TicTacToeDataset.decode(focus_games[idx]), cache[\"pattern\", 0][idx].cpu().numpy()\n",
    ")\n",
    "plot_attn(\n",
    "    TicTacToeDataset.decode(focus_games[idx]), cache[\"pattern\", 1][idx].cpu().numpy()\n",
    ")"
   ]
  },
  {
   "cell_type": "code",
   "execution_count": null,
   "metadata": {},
   "outputs": [],
   "source": [
    "W = np.array([estimator.coef_ for estimator in classifier.estimators_])\n",
    "W.shape"
   ]
  },
  {
   "cell_type": "code",
   "execution_count": null,
   "metadata": {},
   "outputs": [],
   "source": [
    "print(cache.keys())\n",
    "\n",
    "data = []\n",
    "for i in range(9):\n",
    "    activations = cache[\"ln_final.hook_normalized\"][:, i]\n",
    "    singulars = torch.linalg.svdvals(activations).cpu().numpy()\n",
    "    for j, s in enumerate(sorted(singulars, reverse=True)):\n",
    "        data.append({\"idx\": j, \"singular\": s, \"position\": str(i)})\n",
    "\n",
    "ax = sns.lineplot(data=pd.DataFrame(data), x=\"idx\", y=\"singular\", hue=\"position\")\n",
    "ax.axvline(9, color=\"k\", linestyle=\"--\")\n",
    "ax.set(yscale=\"log\", ylim=(1e-1, 1e3))"
   ]
  }
 ],
 "metadata": {
  "kernelspec": {
   "display_name": "tic-tac-gpt",
   "language": "python",
   "name": "python3"
  },
  "language_info": {
   "codemirror_mode": {
    "name": "ipython",
    "version": 3
   },
   "file_extension": ".py",
   "mimetype": "text/x-python",
   "name": "python",
   "nbconvert_exporter": "python",
   "pygments_lexer": "ipython3",
   "version": "3.11.8"
  }
 },
 "nbformat": 4,
 "nbformat_minor": 2
}
